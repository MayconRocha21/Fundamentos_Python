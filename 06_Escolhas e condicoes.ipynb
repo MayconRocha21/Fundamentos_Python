{
 "cells": [
  {
   "cell_type": "markdown",
   "metadata": {},
   "source": [
    "# 06. Escolhas e condições"
   ]
  },
  {
   "cell_type": "markdown",
   "metadata": {},
   "source": [
    "### 06.02. Condições"
   ]
  },
  {
   "cell_type": "code",
   "execution_count": 1,
   "metadata": {},
   "outputs": [
    {
     "data": {
      "text/plain": [
       "True"
      ]
     },
     "execution_count": 1,
     "metadata": {},
     "output_type": "execute_result"
    }
   ],
   "source": [
    "#igual\n",
    "\n",
    "1==1"
   ]
  },
  {
   "cell_type": "code",
   "execution_count": 2,
   "metadata": {},
   "outputs": [
    {
     "data": {
      "text/plain": [
       "False"
      ]
     },
     "execution_count": 2,
     "metadata": {},
     "output_type": "execute_result"
    }
   ],
   "source": [
    "#diferente\n",
    "1 != 12\n",
    "1 != 1"
   ]
  },
  {
   "cell_type": "code",
   "execution_count": 3,
   "metadata": {},
   "outputs": [
    {
     "data": {
      "text/plain": [
       "True"
      ]
     },
     "execution_count": 3,
     "metadata": {},
     "output_type": "execute_result"
    }
   ],
   "source": [
    "#maior\n",
    "\n",
    "5 > 3"
   ]
  },
  {
   "cell_type": "code",
   "execution_count": 4,
   "metadata": {},
   "outputs": [
    {
     "data": {
      "text/plain": [
       "True"
      ]
     },
     "execution_count": 4,
     "metadata": {},
     "output_type": "execute_result"
    }
   ],
   "source": [
    "#maior ou igual\n",
    "\n",
    "5 >= 3"
   ]
  },
  {
   "cell_type": "code",
   "execution_count": 5,
   "metadata": {},
   "outputs": [
    {
     "data": {
      "text/plain": [
       "False"
      ]
     },
     "execution_count": 5,
     "metadata": {},
     "output_type": "execute_result"
    }
   ],
   "source": [
    "#menor\n",
    "\n",
    "11 < 7"
   ]
  },
  {
   "cell_type": "code",
   "execution_count": 6,
   "metadata": {},
   "outputs": [
    {
     "data": {
      "text/plain": [
       "True"
      ]
     },
     "execution_count": 6,
     "metadata": {},
     "output_type": "execute_result"
    }
   ],
   "source": [
    "# menor ou igual\n",
    "\n",
    "4 <= 7\n"
   ]
  },
  {
   "cell_type": "code",
   "execution_count": 7,
   "metadata": {},
   "outputs": [
    {
     "data": {
      "text/plain": [
       "True"
      ]
     },
     "execution_count": 7,
     "metadata": {},
     "output_type": "execute_result"
    }
   ],
   "source": [
    "# está dentro\n",
    "\n",
    "lista = [4,5,6,7,8,9]\n",
    "\n",
    "6 in lista"
   ]
  },
  {
   "cell_type": "markdown",
   "metadata": {},
   "source": [
    "### 06.03. IF Else"
   ]
  },
  {
   "cell_type": "code",
   "execution_count": 8,
   "metadata": {},
   "outputs": [
    {
     "name": "stdout",
     "output_type": "stream",
     "text": [
      "Voce nao foi aprovado. Volte estudar!\n"
     ]
    }
   ],
   "source": [
    "#if\n",
    "\n",
    "nota = 7.5\n",
    "\n",
    "if nota >= 9:\n",
    "    print(\"Voce foi aprovado. Parabens!\")\n",
    "else:\n",
    "    print(\"Voce nao foi aprovado. Volte estudar!\")"
   ]
  },
  {
   "cell_type": "code",
   "execution_count": 9,
   "metadata": {},
   "outputs": [],
   "source": [
    "#if sem else\n",
    "\n",
    "nota = 5\n",
    "\n",
    "if nota >= 9:\n",
    "    print(\"Voce foi aprovado. Parabens!\")"
   ]
  },
  {
   "cell_type": "code",
   "execution_count": 10,
   "metadata": {},
   "outputs": [
    {
     "name": "stdout",
     "output_type": "stream",
     "text": [
      "Você obteve uma nota A.\n"
     ]
    }
   ],
   "source": [
    "# elif\n",
    "\n",
    "nota = 9\n",
    "\n",
    "if nota >= 9:\n",
    "    print(\"Você obteve uma nota A.\")\n",
    "elif nota >= 8:\n",
    "    print(\"Você obteve uma nota B.\")\n",
    "elif nota >= 6:\n",
    "    print(\"Você obteve uma nota C.\")\n",
    "else:\n",
    "    print(\"Reprovado! Volte estudar!\")"
   ]
  },
  {
   "cell_type": "code",
   "execution_count": 11,
   "metadata": {},
   "outputs": [
    {
     "name": "stdout",
     "output_type": "stream",
     "text": [
      "Parabens! O numero 19 foi sorteado!\n"
     ]
    }
   ],
   "source": [
    "# in\n",
    "\n",
    "# em um rifa com 10 numeros entre 5 e 20, escolha um numero para ser sorteado\n",
    "numero = 19\n",
    "\n",
    "rifa = [19, 5, 17, 11, 12, 10, 15, 20, 8, 12]\n",
    "\n",
    "if numero in rifa:\n",
    "    print(f\"Parabens! O numero {numero} foi sorteado!\")\n",
    "else:\n",
    "    print(f\"Tente novamente! O numero {numero} nao foi sorteado!\")"
   ]
  },
  {
   "cell_type": "code",
   "execution_count": 12,
   "metadata": {},
   "outputs": [
    {
     "name": "stdout",
     "output_type": "stream",
     "text": [
      "Parabens! O numero 5 foi sorteado!\n"
     ]
    }
   ],
   "source": [
    "# or = |\n",
    "\n",
    "# em um rifa com 10 numeros entre 5 e 20, escolha um numero para ser sorteado\n",
    "#adicionando outra condição\n",
    "numero = 5\n",
    "\n",
    "rifa = [19, 5, 17, 11, 12, 10, 15, 20, 8, 12]\n",
    "\n",
    "if numero < 5 or numero > 20:\n",
    "    print(f\"Atencao! O numero {numero} nao esta no intervalo solicitado.\")\n",
    "elif numero in rifa:\n",
    "    print(f\"Parabens! O numero {numero} foi sorteado!\")\n",
    "else:\n",
    "    print(f\"Tente novamente! O numero {numero} nao foi sorteado!\")\n",
    "\n"
   ]
  },
  {
   "cell_type": "code",
   "execution_count": 13,
   "metadata": {},
   "outputs": [
    {
     "name": "stdout",
     "output_type": "stream",
     "text": [
      "Tente novamente! O numero 4 nao foi sorteado!\n"
     ]
    }
   ],
   "source": [
    "# and = &\n",
    "\n",
    "#adicionando outra condição\n",
    "numero = 4\n",
    "\n",
    "rifa = [19, 5, 17, 11, 12, 10, 15, 20, 8, 12]\n",
    "\n",
    "if numero <= 5 & numero >= 20:\n",
    "    print(f\"Atencao! O numero {numero} nao esta no intervalo solicitado.\")\n",
    "elif numero in rifa:\n",
    "    print(f\"Parabens! O numero {numero} foi sorteado!\")\n",
    "else:\n",
    "    print(f\"Tente novamente! O numero {numero} nao foi sorteado!\")\n",
    "\n"
   ]
  },
  {
   "cell_type": "markdown",
   "metadata": {},
   "source": [
    "### 06.04. Inline IF"
   ]
  },
  {
   "cell_type": "code",
   "execution_count": 14,
   "metadata": {},
   "outputs": [
    {
     "data": {
      "text/plain": [
       "'Maior de idade'"
      ]
     },
     "execution_count": 14,
     "metadata": {},
     "output_type": "execute_result"
    }
   ],
   "source": [
    "#Inline IF\n",
    "\n",
    "idade = 18\n",
    "\n",
    "mensagem = \"Maior de idade\" if idade >= 18 else \"Menor de idade\" \n",
    "\n",
    "# if idade >= 18:\n",
    "#     mensagem = \"Maior de idade\" \n",
    "# else:\n",
    "#     mensagem = \"Menor de idade\"\n",
    "\n",
    "mensagem"
   ]
  },
  {
   "cell_type": "markdown",
   "metadata": {},
   "source": [
    "### 06.05. For Loop"
   ]
  },
  {
   "cell_type": "code",
   "execution_count": 15,
   "metadata": {},
   "outputs": [
    {
     "name": "stdout",
     "output_type": "stream",
     "text": [
      "Banana\n",
      "Maça\n",
      "Laranja\n"
     ]
    }
   ],
   "source": [
    "#Iterar por uma lista\n",
    "\n",
    "cestaDeFrutas  = [\n",
    "    \"Banana\",\n",
    "    \"Maça\",\n",
    "    \"Laranja\"\n",
    "]\n",
    "\n",
    "for fruta in cestaDeFrutas:\n",
    "    print(fruta)"
   ]
  },
  {
   "cell_type": "code",
   "execution_count": 16,
   "metadata": {},
   "outputs": [
    {
     "name": "stdout",
     "output_type": "stream",
     "text": [
      "1 1\n",
      "2 3\n",
      "3 6\n",
      "4 10\n",
      "5 15\n",
      "6 21\n"
     ]
    },
    {
     "data": {
      "text/plain": [
       "21"
      ]
     },
     "execution_count": 16,
     "metadata": {},
     "output_type": "execute_result"
    }
   ],
   "source": [
    "#Iterar por um intervalo de números\n",
    "numeros = [1,2,3,4,5,6]\n",
    "\n",
    "acumulado = 0\n",
    "\n",
    "# for numero in range(1, 7):\n",
    "for numero in numeros:\n",
    "    acumulado += numero\n",
    "    print(numero, acumulado)\n",
    "    \n",
    "acumulado\n",
    "\n"
   ]
  },
  {
   "cell_type": "code",
   "execution_count": 17,
   "metadata": {},
   "outputs": [
    {
     "name": "stdout",
     "output_type": "stream",
     "text": [
      "P\n",
      "y\n",
      "t\n",
      "h\n",
      "o\n",
      "n\n"
     ]
    }
   ],
   "source": [
    "# Iterar por uma string\n",
    "\n",
    "palavra = \"Python\"\n",
    "\n",
    "for letra in palavra:\n",
    "    print(letra)\n"
   ]
  },
  {
   "cell_type": "markdown",
   "metadata": {},
   "source": [
    "### 06.06. While Loop"
   ]
  },
  {
   "cell_type": "code",
   "execution_count": 18,
   "metadata": {},
   "outputs": [
    {
     "name": "stdout",
     "output_type": "stream",
     "text": [
      "5\n",
      "4\n",
      "3\n",
      "2\n",
      "1\n"
     ]
    }
   ],
   "source": [
    "# Contagem regressiva\n",
    "contador = 5\n",
    "\n",
    "while contador > 0:\n",
    "    print(contador)\n",
    "    contador -= 1\n"
   ]
  },
  {
   "cell_type": "code",
   "execution_count": 19,
   "metadata": {},
   "outputs": [
    {
     "name": "stdout",
     "output_type": "stream",
     "text": [
      "0\n",
      "O total de 42 é igual ou maior que o limite de 10\n"
     ]
    }
   ],
   "source": [
    "#Soma até certo valor\n",
    "\n",
    "soma = 0\n",
    "limite = 10\n",
    "\n",
    "while soma < limite:\n",
    "    print(soma)\n",
    "    numero = int(input(\"Digite um numero\"))\n",
    "    soma += numero\n",
    "\n",
    "print(f\"O total de {soma} é igual ou maior que o limite de {limite}\")\n"
   ]
  },
  {
   "cell_type": "code",
   "execution_count": 20,
   "metadata": {},
   "outputs": [
    {
     "name": "stdout",
     "output_type": "stream",
     "text": [
      "Parabéns! Você acertou em 1 tentativas.\n"
     ]
    }
   ],
   "source": [
    " # Adivinhe o número\n",
    "\n",
    "numero_secreto = 42\n",
    "tentativa = 0\n",
    "\n",
    "while True:\n",
    "    palpite = int(input(\"Adivinhe o numero: \"))\n",
    "    tentativa += 1\n",
    "\n",
    "    if palpite == numero_secreto:\n",
    "        print(f\"Parabéns! Você acertou em {tentativa} tentativas.\")\n",
    "        break\n",
    "    elif palpite < numero_secreto:\n",
    "        print(\"Tente um número maior.\")\n",
    "    else:\n",
    "        print(\"Tente um número menor.\")\n",
    "\n"
   ]
  },
  {
   "cell_type": "markdown",
   "metadata": {},
   "source": [
    "### 06.07. Break"
   ]
  },
  {
   "cell_type": "code",
   "execution_count": 21,
   "metadata": {},
   "outputs": [
    {
     "name": "stdout",
     "output_type": "stream",
     "text": [
      "maçã\n",
      "banana\n",
      "Encontramos a laranja. Vamos parar o loop\n"
     ]
    }
   ],
   "source": [
    "#Break\n",
    "cestaDeFrutas = [\"maçã\", \"banana\", \"laranja\", \"uva\", \"morango\"]\n",
    "\n",
    "for fruta in cestaDeFrutas:\n",
    "    print(fruta)\n",
    "\n",
    "    if fruta == \"banana\":\n",
    "        print(\"Encontramos a laranja. Vamos parar o loop\")\n",
    "        break"
   ]
  },
  {
   "cell_type": "markdown",
   "metadata": {},
   "source": [
    "### 06.08. Continue"
   ]
  },
  {
   "cell_type": "code",
   "execution_count": 22,
   "metadata": {},
   "outputs": [
    {
     "name": "stdout",
     "output_type": "stream",
     "text": [
      "maçã\n",
      "banana\n",
      "Encontramos a laranja! Vamos pular para a próxima iteração.\n",
      "uva\n",
      "morango\n"
     ]
    }
   ],
   "source": [
    "# Continue\n",
    "\n",
    "cestaDeFrutas = [\"maçã\", \"banana\", \"laranja\", \"uva\", \"morango\"]\n",
    "\n",
    "for fruta in cestaDeFrutas:\n",
    "\n",
    "    if fruta == \"laranja\":\n",
    "        print(\"Encontramos a laranja! Vamos pular para a próxima iteração.\")\n",
    "        \n",
    "        continue\n",
    "\n",
    "    print(fruta)"
   ]
  },
  {
   "cell_type": "markdown",
   "metadata": {},
   "source": [
    "### 06.09.  Try Except"
   ]
  },
  {
   "cell_type": "code",
   "execution_count": 26,
   "metadata": {},
   "outputs": [
    {
     "name": "stdout",
     "output_type": "stream",
     "text": [
      "Acumulado: 0\n",
      "Numero: 3\n",
      "Acumulado: 3\n",
      "Numero: 6\n",
      "Acumulado: 9\n",
      "Numero: 6\n"
     ]
    }
   ],
   "source": [
    "#try except\n",
    "\n",
    "limite = 10\n",
    "acumulado = 0\n",
    "\n",
    "while acumulado < limite:\n",
    "\n",
    "    try:\n",
    "\n",
    "        print(f\"Acumulado: {acumulado}\")\n",
    "        numero = int(input(\"Informe um numero\"))\n",
    "        print(f\"Numero: {numero}\")\n",
    "        acumulado += numero\n",
    "        \n",
    "    except:\n",
    "        print(\"Valor informado nao valido\")"
   ]
  },
  {
   "cell_type": "code",
   "execution_count": 31,
   "metadata": {},
   "outputs": [
    {
     "ename": "TypeError",
     "evalue": "int() argument must be a string, a bytes-like object or a real number, not 'list'",
     "output_type": "error",
     "traceback": [
      "\u001b[1;31m---------------------------------------------------------------------------\u001b[0m",
      "\u001b[1;31mTypeError\u001b[0m                                 Traceback (most recent call last)",
      "Cell \u001b[1;32mIn[31], line 1\u001b[0m\n\u001b[1;32m----> 1\u001b[0m \u001b[38;5;28msum\u001b[39m(\u001b[38;5;28;43mint\u001b[39;49m\u001b[43m(\u001b[49m\u001b[43m[\u001b[49m\u001b[38;5;241;43m2\u001b[39;49m\u001b[43m,\u001b[49m\u001b[43m \u001b[49m\u001b[38;5;241;43m4\u001b[39;49m\u001b[43m,\u001b[49m\u001b[43m \u001b[49m\u001b[38;5;241;43m6\u001b[39;49m\u001b[43m,\u001b[49m\u001b[43m \u001b[49m\u001b[38;5;241;43m8\u001b[39;49m\u001b[43m,\u001b[49m\u001b[43m \u001b[49m\u001b[38;5;124;43m'\u001b[39;49m\u001b[38;5;124;43m0\u001b[39;49m\u001b[38;5;124;43m'\u001b[39;49m\u001b[43m]\u001b[49m\u001b[43m)\u001b[49m)\n",
      "\u001b[1;31mTypeError\u001b[0m: int() argument must be a string, a bytes-like object or a real number, not 'list'"
     ]
    }
   ],
   "source": [
    "sum(int([2, 4, 6, 8, '0']))"
   ]
  },
  {
   "cell_type": "code",
   "execution_count": 30,
   "metadata": {},
   "outputs": [
    {
     "name": "stdout",
     "output_type": "stream",
     "text": [
      "2\n",
      "4\n"
     ]
    }
   ],
   "source": [
    "for num in [1, 2, 3, 4, 5]: \n",
    "    if num % 2 == 0: print(num)"
   ]
  },
  {
   "cell_type": "code",
   "execution_count": 29,
   "metadata": {},
   "outputs": [
    {
     "name": "stdout",
     "output_type": "stream",
     "text": [
      "21\n"
     ]
    }
   ],
   "source": [
    "notas_alunos = [6, 7, 8, 9, 5, 6, 7, 8, 4, 7, 6, 8, 9, 10, 8, 7, 6, 5, 7, 8, 9, 10, 6, 7, 8, 9, 6, 7, 8, 9]\n",
    "\n",
    "alunos_nota_7 = 0\n",
    "\n",
    "for nota in notas_alunos:\n",
    "    if nota >= 7:\n",
    "        alunos_nota_7 += 1\n",
    "\n",
    "print(alunos_nota_7)"
   ]
  }
 ],
 "metadata": {
  "kernelspec": {
   "display_name": "venv",
   "language": "python",
   "name": "python3"
  },
  "language_info": {
   "codemirror_mode": {
    "name": "ipython",
    "version": 3
   },
   "file_extension": ".py",
   "mimetype": "text/x-python",
   "name": "python",
   "nbconvert_exporter": "python",
   "pygments_lexer": "ipython3",
   "version": "3.11.9"
  }
 },
 "nbformat": 4,
 "nbformat_minor": 2
}
