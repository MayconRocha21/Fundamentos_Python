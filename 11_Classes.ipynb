{
 "cells": [
  {
   "cell_type": "code",
   "execution_count": 1,
   "metadata": {},
   "outputs": [],
   "source": [
    "#criando a classe\n",
    "class PeDeLaranja:\n",
    "    def __init__(self):\n",
    "        self.altura = 0\n",
    "        self.idade = 0\n",
    "        self.frutos = 0\n",
    "        self.viva = True\n",
    "\n",
    "    def adicionar_um_ano(self):\n",
    "        self.idade +=1\n",
    "        self.adicionar_um_metro()\n",
    "        self.adicionar_fruto()\n",
    "\n",
    "    def adicionar_um_metro(self):\n",
    "        if self.altura <10:\n",
    "            self.altura += 1\n",
    "\n",
    "    def adicionar_fruto(self):\n",
    "        if (self.idade >= 5) & (self.idade<=10):\n",
    "            self.frutos += 100\n",
    "        elif (self.idade>=11) & (self.idade<=15):\n",
    "            self.frutos +=200\n"
   ]
  },
  {
   "cell_type": "code",
   "execution_count": 2,
   "metadata": {},
   "outputs": [],
   "source": [
    "#instanciando a classe\n",
    "LaranjaLima = PeDeLaranja()"
   ]
  },
  {
   "cell_type": "code",
   "execution_count": 3,
   "metadata": {},
   "outputs": [
    {
     "data": {
      "text/plain": [
       "(0, 0, 0, True)"
      ]
     },
     "execution_count": 3,
     "metadata": {},
     "output_type": "execute_result"
    }
   ],
   "source": [
    "#verificando os atributos\n",
    "LaranjaLima.altura, LaranjaLima.idade, LaranjaLima.frutos, LaranjaLima.viva"
   ]
  },
  {
   "cell_type": "code",
   "execution_count": 4,
   "metadata": {},
   "outputs": [
    {
     "data": {
      "text/plain": [
       "(1, 1, 0, True)"
      ]
     },
     "execution_count": 4,
     "metadata": {},
     "output_type": "execute_result"
    }
   ],
   "source": [
    "LaranjaLima.adicionar_um_ano()\n",
    "#verificando os atributos\n",
    "LaranjaLima.altura, LaranjaLima.idade, LaranjaLima.frutos, LaranjaLima.viva"
   ]
  },
  {
   "cell_type": "code",
   "execution_count": null,
   "metadata": {},
   "outputs": [],
   "source": []
  }
 ],
 "metadata": {
  "kernelspec": {
   "display_name": "venv",
   "language": "python",
   "name": "python3"
  },
  "language_info": {
   "codemirror_mode": {
    "name": "ipython",
    "version": 3
   },
   "file_extension": ".py",
   "mimetype": "text/x-python",
   "name": "python",
   "nbconvert_exporter": "python",
   "pygments_lexer": "ipython3",
   "version": "3.11.9"
  }
 },
 "nbformat": 4,
 "nbformat_minor": 2
}
