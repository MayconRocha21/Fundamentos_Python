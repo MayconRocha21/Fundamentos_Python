{
 "cells": [
  {
   "cell_type": "markdown",
   "metadata": {},
   "source": [
    "# 04. Tipos de dados no Python"
   ]
  },
  {
   "cell_type": "markdown",
   "metadata": {},
   "source": [
    "### 04.02. Tipos comuns"
   ]
  },
  {
   "cell_type": "markdown",
   "metadata": {},
   "source": [
    "#### Inteiro / Integer"
   ]
  },
  {
   "cell_type": "code",
   "execution_count": 35,
   "metadata": {},
   "outputs": [],
   "source": [
    "#inteiro\n",
    "\n",
    "idade = 37\n",
    "temperatura = -4\n",
    "numeroGrande = 123456789"
   ]
  },
  {
   "cell_type": "markdown",
   "metadata": {},
   "source": [
    "#### Float  / Decimal\n"
   ]
  },
  {
   "cell_type": "code",
   "execution_count": 36,
   "metadata": {},
   "outputs": [
    {
     "data": {
      "text/plain": [
       "91.2"
      ]
     },
     "execution_count": 36,
     "metadata": {},
     "output_type": "execute_result"
    }
   ],
   "source": [
    "peso = 91.2\n",
    "temperatura = -4.5\n",
    "\n",
    "peso"
   ]
  },
  {
   "cell_type": "markdown",
   "metadata": {},
   "source": [
    "#### String / Texto"
   ]
  },
  {
   "cell_type": "code",
   "execution_count": 37,
   "metadata": {},
   "outputs": [
    {
     "data": {
      "text/plain": [
       "False"
      ]
     },
     "execution_count": 37,
     "metadata": {},
     "output_type": "execute_result"
    }
   ],
   "source": [
    "# equivalente\n",
    "Nome = \"Maycon Rocha\"\n",
    "\n",
    "numero_a = 1\n",
    "numero_b = \"1\"\n",
    "\n",
    "numero_a == numero_b"
   ]
  },
  {
   "cell_type": "markdown",
   "metadata": {},
   "source": [
    "#### Booleano\n",
    "Tru or False"
   ]
  },
  {
   "cell_type": "code",
   "execution_count": 38,
   "metadata": {},
   "outputs": [
    {
     "data": {
      "text/plain": [
       "False"
      ]
     },
     "execution_count": 38,
     "metadata": {},
     "output_type": "execute_result"
    }
   ],
   "source": [
    "# Exemplo de uma variável booleana\n",
    "linguagem_1 = \"Python\"\n",
    "linguagem_2 = \"Java\"\n",
    "\n",
    "linguagem_1 == linguagem_1\n",
    "\n",
    "verdadeiro = True\n",
    "verdadeiro\n",
    "# Exemplo de uma variável booleana\n",
    "falso = False\n",
    "falso"
   ]
  },
  {
   "cell_type": "markdown",
   "metadata": {},
   "source": [
    "#### Verificando tipo de dados com Python"
   ]
  },
  {
   "cell_type": "code",
   "execution_count": 39,
   "metadata": {},
   "outputs": [
    {
     "name": "stdout",
     "output_type": "stream",
     "text": [
      "<class 'int'>\n",
      "<class 'float'>\n",
      "<class 'str'>\n",
      "<class 'list'>\n",
      "<class 'tuple'>\n",
      "<class 'dict'>\n",
      "<class 'bool'>\n"
     ]
    }
   ],
   "source": [
    "# Exemplo de variáveis de diferentes tipos\n",
    "type(linguagem_2)\n",
    "type(falso)\n",
    "type(numero_a)\n",
    "\n",
    "\n",
    "# Exemplo de variáveis de diferentes tipos\n",
    "inteiro = 42\n",
    "flutuante = 3.14\n",
    "texto = \"Olá, mundo!\"\n",
    "lista = [1, 2, 3]\n",
    "tupla = (1 , 3)\n",
    "dicionario = {'a': 1, 'b': 2}\n",
    "booleano = True\n",
    "\n",
    "# Verificando os tipos\n",
    "print(type(inteiro))    # <class 'int'>\n",
    "print(type(flutuante))  # <class 'float'>\n",
    "print(type(texto))      # <class 'str'>\n",
    "print(type(lista))      # <class 'list'>\n",
    "print(type(tupla))      # <class 'tuple'>\n",
    "print(type(dicionario)) # <class 'dict'>\n",
    "print(type(booleano))   # <class 'bool'>\n"
   ]
  },
  {
   "cell_type": "markdown",
   "metadata": {},
   "source": [
    "#### 04.05. Formatando strings"
   ]
  },
  {
   "cell_type": "markdown",
   "metadata": {},
   "source": [
    "#### Formatando Strings utilizando %"
   ]
  },
  {
   "cell_type": "code",
   "execution_count": 40,
   "metadata": {},
   "outputs": [
    {
     "data": {
      "text/plain": [
       "'O Iphone 15 Pro Max foi lancado em 2023 e custa $ 1299. Mas a taxa de conversao real para dolar e 4.96 reais para 1 dolar'"
      ]
     },
     "execution_count": 40,
     "metadata": {},
     "output_type": "execute_result"
    }
   ],
   "source": [
    "marca = \"Iphone 15 Pro Max\"\n",
    "lancamento = 2023\n",
    "valor = 1299\n",
    "taxaDolar = 4.955555555\n",
    "\n",
    "# \"O \" + marca + \" foi lancado em \" + str(lancamento)\n",
    "\n",
    "'O %s foi lancado em %d e custa $ %d. Mas a taxa de conversao real para dolar e %.2f reais para 1 dolar'%(marca, lancamento, valor, taxaDolar)\n"
   ]
  },
  {
   "cell_type": "markdown",
   "metadata": {},
   "source": [
    "#### Formatando Strings utilizando o format()"
   ]
  },
  {
   "cell_type": "code",
   "execution_count": 41,
   "metadata": {},
   "outputs": [
    {
     "data": {
      "text/plain": [
       "'O Iphone 15 Pro Max foi lancado em 2023 e custa $1299. Mas a taxa de conversao real para dolar e R$ 4.96 para R$1'"
      ]
     },
     "execution_count": 41,
     "metadata": {},
     "output_type": "execute_result"
    }
   ],
   "source": [
    "marca = \"Iphone 15 Pro Max\"\n",
    "lancamento = 2023\n",
    "valor = 1299\n",
    "taxaDolar = 4.955555555\n",
    "\n",
    "'O {0} foi lancado em {1} e custa ${2}. Mas a taxa de conversao real para dolar e R${3: .2f} para R$1'.format(marca, lancamento, valor, taxaDolar)\n"
   ]
  },
  {
   "cell_type": "code",
   "execution_count": 42,
   "metadata": {},
   "outputs": [
    {
     "data": {
      "text/plain": [
       "'O Iphone 15 Pro Max foi lancado em 2023 e custa $1299. Mas a taxa de conversao real para dolar e R$ 4.96 para R$1'"
      ]
     },
     "execution_count": 42,
     "metadata": {},
     "output_type": "execute_result"
    }
   ],
   "source": [
    "f'O {marca} foi lancado em {lancamento} e custa ${valor}. Mas a taxa de conversao real para dolar e R${taxaDolar: .2f} para R$1'"
   ]
  },
  {
   "cell_type": "markdown",
   "metadata": {},
   "source": [
    "#### 04.06. Convertendo tipo de dados"
   ]
  },
  {
   "cell_type": "code",
   "execution_count": 14,
   "metadata": {},
   "outputs": [
    {
     "data": {
      "text/plain": [
       "10.0"
      ]
     },
     "execution_count": 14,
     "metadata": {},
     "output_type": "execute_result"
    }
   ],
   "source": [
    "numero = int('2')\n",
    "numero = str(numero)\n",
    "1+ int('1')\n",
    "str(1)+'1'\n",
    "float(10)"
   ]
  },
  {
   "cell_type": "code",
   "execution_count": 26,
   "metadata": {},
   "outputs": [
    {
     "name": "stdout",
     "output_type": "stream",
     "text": [
      "Data e hora em São Paulo: 2024-01-06 16:27:21-03:00\n"
     ]
    }
   ],
   "source": [
    "from datetime import datetime   \n",
    "import pytz \n",
    "\n",
    "unix_time = 1704569241\n",
    "# Converter para data e hora normal em São Paulo\n",
    "fuso_horario_sao_paulo = pytz.timezone('America/Sao_Paulo')\n",
    "\n",
    "data_hora_sao_paulo = datetime.fromtimestamp(unix_time, fuso_horario_sao_paulo)\n",
    "\n",
    "print(\"Data e hora em São Paulo:\", data_hora_sao_paulo)\n"
   ]
  },
  {
   "cell_type": "markdown",
   "metadata": {},
   "source": [
    "#### 04.07. Listas\n",
    " "
   ]
  },
  {
   "cell_type": "code",
   "execution_count": null,
   "metadata": {},
   "outputs": [
    {
     "data": {
      "text/plain": [
       "(['Huguinho', 'Zezinho', 'Luizinho'], [18, 19, 20])"
      ]
     },
     "execution_count": 13,
     "metadata": {},
     "output_type": "execute_result"
    }
   ],
   "source": [
    "#declarando uma lista\n",
    "minhaLista = []\n",
    "minhaLista\n",
    "\n",
    "nomeUsuario = [\"Huguinho\", \"Zezinho\", \"Luizinho\"]\n",
    "idadeUsuario = [18, 19, 20]\n",
    "\n",
    "nomeUsuario, idadeUsuario"
   ]
  },
  {
   "cell_type": "code",
   "execution_count": null,
   "metadata": {},
   "outputs": [
    {
     "data": {
      "text/plain": [
       "(['Huguinho', 'Zezinho', 'Luizinho', 'Tio Patinhas'], [18, 19, 20, 60])"
      ]
     },
     "execution_count": 14,
     "metadata": {},
     "output_type": "execute_result"
    }
   ],
   "source": [
    "#Adicionando itens na lista\n",
    "nomeUsuario.append(\"Tio Patinhas\")\n",
    "idadeUsuario.append(60)\n",
    "\n",
    "idadeUsuario\n",
    "nomeUsuario, idadeUsuario"
   ]
  },
  {
   "cell_type": "code",
   "execution_count": null,
   "metadata": {},
   "outputs": [
    {
     "data": {
      "text/plain": [
       "(['Huguinho', 'Zezinho', 'Luizinho', 'Tio Patinhas'], [18, 19, 20, 60])"
      ]
     },
     "execution_count": 14,
     "metadata": {},
     "output_type": "execute_result"
    }
   ],
   "source": [
    "#removendo da lista\n",
    "nomeUsuario.remove(\"Tio Patinhas\")\n",
    "idadeUsuario.remove(60)\n",
    "\n",
    "nomeUsuario, idadeUsuario"
   ]
  },
  {
   "cell_type": "code",
   "execution_count": null,
   "metadata": {},
   "outputs": [
    {
     "data": {
      "text/plain": [
       "49"
      ]
     },
     "execution_count": 15,
     "metadata": {},
     "output_type": "execute_result"
    }
   ],
   "source": [
    "# encontando um valor por indice\n",
    "idadeAlunos = [49, 50, 41, 39, 22, 30, 43, 45, 27, 18, 32, 24, 21, 48, 31]\n",
    "\n",
    "idadeAlunos[0]"
   ]
  },
  {
   "cell_type": "code",
   "execution_count": null,
   "metadata": {},
   "outputs": [
    {
     "data": {
      "text/plain": [
       "[49, 50, 41, 39, 22]"
      ]
     },
     "execution_count": 7,
     "metadata": {},
     "output_type": "execute_result"
    }
   ],
   "source": [
    "idadeAlunos = [49, 50, 41, 39, 22, 30, 43, 45, 27, 18, 32, 24, 21, 48, 31]\n",
    "\n",
    "#buscando primeiros itens\n",
    "idadeAlunos[:5]\n",
    "\n",
    "#da esquerda (valor positivo)\n",
    "idadeAlunos[11]\n",
    "\n",
    "#da direita (valor negativo)\n",
    "idadeAlunos[-3]\n"
   ]
  },
  {
   "cell_type": "code",
   "execution_count": 8,
   "metadata": {},
   "outputs": [
    {
     "data": {
      "text/plain": [
       "[21, 48, 31]"
      ]
     },
     "execution_count": 8,
     "metadata": {},
     "output_type": "execute_result"
    }
   ],
   "source": [
    "idadeAlunos = [49, 50, 41, 39, 22, 30, 43, 45, 27, 18, 32, 24, 21, 48, 31]\n",
    "\n",
    "#da esquerda (valor positivo)\n",
    "idadeAlunos[:5]\n",
    "\n",
    "#da direita (valor negativo)\n",
    "idadeAlunos[-3:]\n",
    "\n"
   ]
  },
  {
   "cell_type": "code",
   "execution_count": null,
   "metadata": {},
   "outputs": [
    {
     "data": {
      "text/plain": [
       "[22, 30, 43, 45, 27, 18]"
      ]
     },
     "execution_count": 18,
     "metadata": {},
     "output_type": "execute_result"
    }
   ],
   "source": [
    "idadeAlunos = [49, 50, 41, 39, 22, 30, 43, 45, 27, 18, 32, 24, 21, 48, 31]\n",
    "\n",
    "#buscando um intervalo de itens\n",
    "#idadeAlunos[2:5]  2 ao 5-1\n",
    "\n",
    "idadeAlunos[4:10]\n"
   ]
  },
  {
   "cell_type": "code",
   "execution_count": 10,
   "metadata": {},
   "outputs": [
    {
     "data": {
      "text/plain": [
       "[49, 41, 22, 43, 27]"
      ]
     },
     "execution_count": 10,
     "metadata": {},
     "output_type": "execute_result"
    }
   ],
   "source": [
    "#Acessando intervalos\n",
    "idadeAlunos = [49, 50, 41, 39, 22, 30, 43, 45, 27, 18, 32, 24, 21, 48, 31]\n",
    "idadeAlunos[0:10:2]"
   ]
  },
  {
   "cell_type": "code",
   "execution_count": 11,
   "metadata": {},
   "outputs": [
    {
     "data": {
      "text/plain": [
       "[49, 50, 41, 39, 22, 30, 43, 45, 27, 18]"
      ]
     },
     "execution_count": 11,
     "metadata": {},
     "output_type": "execute_result"
    }
   ],
   "source": [
    "idadeAlunos[0:10]"
   ]
  },
  {
   "cell_type": "code",
   "execution_count": 12,
   "metadata": {},
   "outputs": [
    {
     "data": {
      "text/plain": [
       "[63, 50, 41, 39, 22, 30, 43, 45, 27, 18, 32, 24, 21, 48, 31]"
      ]
     },
     "execution_count": 12,
     "metadata": {},
     "output_type": "execute_result"
    }
   ],
   "source": [
    "#alterando valores\n",
    "idadeAlunos = [49, 50, 41, 39, 22, 30, 43, 45, 27, 18, 32, 24, 21, 48, 31]\n",
    "\n",
    "idadeAlunos[0] = 63\n",
    "idadeAlunos"
   ]
  },
  {
   "cell_type": "markdown",
   "metadata": {},
   "source": [
    "#### 04.08. Tuplas"
   ]
  },
  {
   "cell_type": "code",
   "execution_count": 13,
   "metadata": {},
   "outputs": [],
   "source": [
    "mesesDoAno = (\"Jan\", \"Feb\", \"Mar\", \"Apr\", \"May\", \"Jun\", \"Jul\", \"Aug\", \"Sep\", \"Oct\", \"Nov\", \"Dec\")"
   ]
  },
  {
   "cell_type": "code",
   "execution_count": 20,
   "metadata": {},
   "outputs": [
    {
     "data": {
      "text/plain": [
       "('Apr', 'May', 'Jun')"
      ]
     },
     "execution_count": 20,
     "metadata": {},
     "output_type": "execute_result"
    }
   ],
   "source": [
    "#Acessando valores\n",
    "mesesDoAno[11]\n",
    "\n",
    "mesesDoAno[3:6]"
   ]
  },
  {
   "cell_type": "markdown",
   "metadata": {},
   "source": [
    "#### 04.09. Dicionarios"
   ]
  },
  {
   "cell_type": "code",
   "execution_count": 21,
   "metadata": {},
   "outputs": [
    {
     "data": {
      "text/plain": [
       "dict"
      ]
     },
     "execution_count": 21,
     "metadata": {},
     "output_type": "execute_result"
    }
   ],
   "source": [
    "meuDicionario = {}\n",
    "type(meuDicionario)"
   ]
  },
  {
   "cell_type": "code",
   "execution_count": 22,
   "metadata": {},
   "outputs": [
    {
     "data": {
      "text/plain": [
       "{'Huguinho': 18, 'Zezinho': 19, 'Luizinho': 20}"
      ]
     },
     "execution_count": 22,
     "metadata": {},
     "output_type": "execute_result"
    }
   ],
   "source": [
    "#criando um dicionario com nome e didade de usuários\n",
    "usuario = {\n",
    "    \"Huguinho\":18,\n",
    "    \"Zezinho\": 19,\n",
    "    \"Luizinho\":20\n",
    "}\n",
    "usuario"
   ]
  },
  {
   "cell_type": "code",
   "execution_count": 23,
   "metadata": {},
   "outputs": [
    {
     "data": {
      "text/plain": [
       "19"
      ]
     },
     "execution_count": 23,
     "metadata": {},
     "output_type": "execute_result"
    }
   ],
   "source": [
    "#imprimindo um item\n",
    "usuario[\"Zezinho\"]"
   ]
  },
  {
   "cell_type": "code",
   "execution_count": null,
   "metadata": {},
   "outputs": [
    {
     "data": {
      "text/plain": [
       "{'Huguinho': 18, 'Zezinho': 19, 'Luizinho': 21}"
      ]
     },
     "execution_count": 27,
     "metadata": {},
     "output_type": "execute_result"
    }
   ],
   "source": [
    "#imprimindo um item\n",
    "usuario[\"Luizinho\"] = 21\n",
    "usuario"
   ]
  },
  {
   "cell_type": "markdown",
   "metadata": {},
   "source": [
    "#### Criando uma lista de dicionários\n"
   ]
  },
  {
   "cell_type": "code",
   "execution_count": 27,
   "metadata": {},
   "outputs": [
    {
     "data": {
      "text/plain": [
       "[{'nome': 'Huguinho', 'idade': 18},\n",
       " {'nome': 'Zezinho', 'idade': 19},\n",
       " {'nome': 'Luizinho', 'idade': 21},\n",
       " {'nome': 'Tio Patinhas', 'idade': 30}]"
      ]
     },
     "execution_count": 27,
     "metadata": {},
     "output_type": "execute_result"
    }
   ],
   "source": [
    "listaUsuarios=[\n",
    "    {\"nome\": \"Huguinho\", \"idade\":18},\n",
    "    {\"nome\": \"Zezinho\", \"idade\":19},\n",
    "    {\"nome\": \"Luizinho\", \"idade\":21},\n",
    "    {\"nome\": \"Tio Patinhas\", \"idade\":30},\n",
    "]\n",
    "listaUsuarios"
   ]
  },
  {
   "cell_type": "code",
   "execution_count": 24,
   "metadata": {},
   "outputs": [],
   "source": [
    "import pandas as pd"
   ]
  },
  {
   "cell_type": "code",
   "execution_count": 28,
   "metadata": {},
   "outputs": [
    {
     "data": {
      "text/html": [
       "<div>\n",
       "<style scoped>\n",
       "    .dataframe tbody tr th:only-of-type {\n",
       "        vertical-align: middle;\n",
       "    }\n",
       "\n",
       "    .dataframe tbody tr th {\n",
       "        vertical-align: top;\n",
       "    }\n",
       "\n",
       "    .dataframe thead th {\n",
       "        text-align: right;\n",
       "    }\n",
       "</style>\n",
       "<table border=\"1\" class=\"dataframe\">\n",
       "  <thead>\n",
       "    <tr style=\"text-align: right;\">\n",
       "      <th></th>\n",
       "      <th>nome</th>\n",
       "      <th>idade</th>\n",
       "    </tr>\n",
       "  </thead>\n",
       "  <tbody>\n",
       "    <tr>\n",
       "      <th>0</th>\n",
       "      <td>Huguinho</td>\n",
       "      <td>18</td>\n",
       "    </tr>\n",
       "    <tr>\n",
       "      <th>1</th>\n",
       "      <td>Zezinho</td>\n",
       "      <td>19</td>\n",
       "    </tr>\n",
       "    <tr>\n",
       "      <th>2</th>\n",
       "      <td>Luizinho</td>\n",
       "      <td>21</td>\n",
       "    </tr>\n",
       "    <tr>\n",
       "      <th>3</th>\n",
       "      <td>Tio Patinhas</td>\n",
       "      <td>30</td>\n",
       "    </tr>\n",
       "  </tbody>\n",
       "</table>\n",
       "</div>"
      ],
      "text/plain": [
       "           nome  idade\n",
       "0      Huguinho     18\n",
       "1       Zezinho     19\n",
       "2      Luizinho     21\n",
       "3  Tio Patinhas     30"
      ]
     },
     "execution_count": 28,
     "metadata": {},
     "output_type": "execute_result"
    }
   ],
   "source": [
    "df = pd.DataFrame(listaUsuarios)\n",
    "df"
   ]
  },
  {
   "cell_type": "code",
   "execution_count": null,
   "metadata": {},
   "outputs": [
    {
     "data": {
      "text/html": [
       "<div>\n",
       "<style scoped>\n",
       "    .dataframe tbody tr th:only-of-type {\n",
       "        vertical-align: middle;\n",
       "    }\n",
       "\n",
       "    .dataframe tbody tr th {\n",
       "        vertical-align: top;\n",
       "    }\n",
       "\n",
       "    .dataframe thead th {\n",
       "        text-align: right;\n",
       "    }\n",
       "</style>\n",
       "<table border=\"1\" class=\"dataframe\">\n",
       "  <thead>\n",
       "    <tr style=\"text-align: right;\">\n",
       "      <th></th>\n",
       "      <th>nome</th>\n",
       "      <th>idade</th>\n",
       "    </tr>\n",
       "  </thead>\n",
       "  <tbody>\n",
       "    <tr>\n",
       "      <th>0</th>\n",
       "      <td>Huguinho</td>\n",
       "      <td>18</td>\n",
       "    </tr>\n",
       "    <tr>\n",
       "      <th>1</th>\n",
       "      <td>Zezinho</td>\n",
       "      <td>19</td>\n",
       "    </tr>\n",
       "    <tr>\n",
       "      <th>2</th>\n",
       "      <td>Luizinho</td>\n",
       "      <td>21</td>\n",
       "    </tr>\n",
       "  </tbody>\n",
       "</table>\n",
       "</div>"
      ],
      "text/plain": [
       "       nome  idade\n",
       "0  Huguinho     18\n",
       "1   Zezinho     19\n",
       "2  Luizinho     21"
      ]
     },
     "execution_count": 7,
     "metadata": {},
     "output_type": "execute_result"
    }
   ],
   "source": [
    "df.head(3)"
   ]
  },
  {
   "cell_type": "code",
   "execution_count": null,
   "metadata": {},
   "outputs": [],
   "source": []
  }
 ],
 "metadata": {
  "kernelspec": {
   "display_name": "venv",
   "language": "python",
   "name": "python3"
  },
  "language_info": {
   "codemirror_mode": {
    "name": "ipython",
    "version": 3
   },
   "file_extension": ".py",
   "mimetype": "text/x-python",
   "name": "python",
   "nbconvert_exporter": "python",
   "pygments_lexer": "ipython3",
   "version": "3.11.9"
  }
 },
 "nbformat": 4,
 "nbformat_minor": 2
}
