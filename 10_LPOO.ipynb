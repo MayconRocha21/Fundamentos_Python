{
 "cells": [
  {
   "cell_type": "markdown",
   "metadata": {},
   "source": [
    "Nome da classe: Carro\n",
    "\n",
    "Construtor: __init__()\n",
    "\n",
    "Atributos:\n",
    "- modelo\n",
    "- marca\n",
    "- cor\n",
    "- ano\n",
    "\n",
    "#Métodos\n",
    "- ligar o motor\n",
    "- desligar motor\n",
    "- obter informações"
   ]
  },
  {
   "cell_type": "code",
   "execution_count": null,
   "metadata": {},
   "outputs": [],
   "source": [
    "from MinhasClasses import Carro"
   ]
  },
  {
   "cell_type": "code",
   "execution_count": null,
   "metadata": {},
   "outputs": [],
   "source": [
    "# instanciando a classe\n",
    "meu_primeiro_carro = Carro('Fusca', 'VW', 'Azul', '1973')\n",
    "meu_carro_de_trabalho = Carro('Uno', 'Fiat', 'Branco', '1986')"
   ]
  },
  {
   "cell_type": "code",
   "execution_count": null,
   "metadata": {},
   "outputs": [],
   "source": [
    "meu_primeiro_carro.get_info_carro()"
   ]
  },
  {
   "cell_type": "code",
   "execution_count": null,
   "metadata": {},
   "outputs": [],
   "source": [
    "meu_primeiro_carro.set_ligado(True)\n",
    "meu_primeiro_carro.get_info_carro()"
   ]
  },
  {
   "cell_type": "code",
   "execution_count": null,
   "metadata": {},
   "outputs": [],
   "source": [
    "meu_primeiro_carro.set_ligado(False)\n",
    "meu_primeiro_carro.get_info_carro()"
   ]
  },
  {
   "cell_type": "code",
   "execution_count": null,
   "metadata": {},
   "outputs": [],
   "source": []
  }
 ],
 "metadata": {
  "kernelspec": {
   "display_name": "venv1",
   "language": "python",
   "name": "python3"
  },
  "language_info": {
   "codemirror_mode": {
    "name": "ipython",
    "version": 3
   },
   "file_extension": ".py",
   "mimetype": "text/x-python",
   "name": "python",
   "nbconvert_exporter": "python",
   "pygments_lexer": "ipython3",
   "version": "3.12.2"
  }
 },
 "nbformat": 4,
 "nbformat_minor": 2
}
