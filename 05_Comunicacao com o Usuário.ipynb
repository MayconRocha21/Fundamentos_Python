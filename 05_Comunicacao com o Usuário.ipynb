{
 "cells": [
  {
   "cell_type": "markdown",
   "metadata": {},
   "source": [
    "# 05. Comunicação com o Usuário"
   ]
  },
  {
   "cell_type": "markdown",
   "metadata": {},
   "source": [
    "### 05.02. Input"
   ]
  },
  {
   "cell_type": "code",
   "execution_count": 1,
   "metadata": {},
   "outputs": [
    {
     "data": {
      "text/plain": [
       "('Maycon', 'Rocha')"
      ]
     },
     "execution_count": 1,
     "metadata": {},
     "output_type": "execute_result"
    }
   ],
   "source": [
    "primeiroNome = input(\"Informe seu nome: \")\n",
    "sobreNome = input(\"Informe seu sobrenome: \")\n",
    "\n",
    "primeiroNome, sobreNome"
   ]
  },
  {
   "cell_type": "markdown",
   "metadata": {},
   "source": [
    "### 05.03. Print"
   ]
  },
  {
   "cell_type": "code",
   "execution_count": 2,
   "metadata": {},
   "outputs": [
    {
     "name": "stdout",
     "output_type": "stream",
     "text": [
      "Olá, Maycon Rocha. Seja bem vindo(a)!\n"
     ]
    }
   ],
   "source": [
    "print(f\"Olá, {primeiroNome} {sobreNome}. Seja bem vindo(a)!\")"
   ]
  },
  {
   "cell_type": "markdown",
   "metadata": {},
   "source": [
    "### 05.04. Triple Quotes"
   ]
  },
  {
   "cell_type": "code",
   "execution_count": 3,
   "metadata": {},
   "outputs": [
    {
     "name": "stdout",
     "output_type": "stream",
     "text": [
      " \n",
      "Este texto permite várias linhas.\n",
      "Veja o exemplo após imprimir com a função print()\n",
      "teste\n",
      "teste2\n",
      "teste3\n",
      "\n"
     ]
    }
   ],
   "source": [
    "# \"\"\" #'''\n",
    "\n",
    "texto = \"\"\" \n",
    "Este texto permite várias linhas.\n",
    "Veja o exemplo após imprimir com a função print()\n",
    "teste\n",
    "teste2\n",
    "teste3\n",
    "\"\"\"\n",
    "\n",
    "print(texto)"
   ]
  },
  {
   "cell_type": "code",
   "execution_count": 4,
   "metadata": {},
   "outputs": [
    {
     "name": "stdout",
     "output_type": "stream",
     "text": [
      "\n",
      "Este texto permite várias linhas.\n",
      "Veja o exemplo após imprimir com a função print()\n",
      "teste\n",
      "teste2\n",
      "teste3\n",
      "\n",
      "\n"
     ]
    }
   ],
   "source": [
    "texto = '''\n",
    "Este texto permite várias linhas.\n",
    "Veja o exemplo após imprimir com a função print()\n",
    "teste\n",
    "teste2\n",
    "teste3\n",
    "\n",
    "'''\n",
    "\n",
    "print(texto)"
   ]
  },
  {
   "cell_type": "markdown",
   "metadata": {},
   "source": [
    "### 05.05. Escape Characters"
   ]
  },
  {
   "cell_type": "code",
   "execution_count": 5,
   "metadata": {},
   "outputs": [
    {
     "name": "stdout",
     "output_type": "stream",
     "text": [
      "\t Olá \t Mundo!\n"
     ]
    }
   ],
   "source": [
    "#  \\t = tab\n",
    "texto = \"\\t Olá \\t Mundo!\"\n",
    "\n",
    "# texto \n",
    "print(texto)"
   ]
  },
  {
   "cell_type": "code",
   "execution_count": 6,
   "metadata": {},
   "outputs": [
    {
     "name": "stdout",
     "output_type": "stream",
     "text": [
      "Olá\n",
      "Mundo!\n"
     ]
    }
   ],
   "source": [
    "#  \\n = nova linha\n",
    "texto = \"Olá\\nMundo!\"\n",
    "\n",
    "# texto \n",
    "print(texto)"
   ]
  },
  {
   "cell_type": "code",
   "execution_count": 7,
   "metadata": {},
   "outputs": [
    {
     "name": "stdout",
     "output_type": "stream",
     "text": [
      "10 \\ 5 = 2\n"
     ]
    }
   ],
   "source": [
    "#  \\\\ = \\\n",
    "texto = \"10 \\\\ 5 = 2\"\n",
    "print(texto)"
   ]
  },
  {
   "cell_type": "code",
   "execution_count": 8,
   "metadata": {},
   "outputs": [
    {
     "name": "stdout",
     "output_type": "stream",
     "text": [
      "Eu tenho 5' 10\" \n"
     ]
    }
   ],
   "source": [
    "# \\\" = \"\n",
    "texto = \"Eu tenho 5' 10\\\" \"\n",
    "print(texto)"
   ]
  },
  {
   "cell_type": "code",
   "execution_count": 9,
   "metadata": {},
   "outputs": [
    {
     "name": "stdout",
     "output_type": "stream",
     "text": [
      "Eu tenho 5' 10\"\n"
     ]
    }
   ],
   "source": [
    "# \\' = '\n",
    "texto = 'Eu tenho 5\\' 10\"'\n",
    "print(texto)"
   ]
  },
  {
   "cell_type": "markdown",
   "metadata": {},
   "source": [
    "#### Lista de caracteres de escape em python\n",
    "\n",
    "\\n: Nova linha <br>\n",
    "\\t: Tabulação<br>\n",
    "\\': Aspa simples<br>\n",
    "\\\": Aspa dupla<br>\n",
    "\\\\: Barra invertida<br>\n",
    "\\b: Retrocesso (backspace)<br>\n",
    "\\r: Retorno de carro<br>\n",
    "\\f: Avanço de página<br>\n",
    "\\v: Tabulação vertical<br>\n",
    "\\ooo: Representação octal (onde \"ooo\" são dígitos octais)<br>\n",
    "\\xhh: Representação hexadecimal (onde \"hh\" são dígitos hexadecimais)<br>\n",
    "\n",
    "\n"
   ]
  }
 ],
 "metadata": {
  "kernelspec": {
   "display_name": "venv",
   "language": "python",
   "name": "python3"
  },
  "language_info": {
   "codemirror_mode": {
    "name": "ipython",
    "version": 3
   },
   "file_extension": ".py",
   "mimetype": "text/x-python",
   "name": "python",
   "nbconvert_exporter": "python",
   "pygments_lexer": "ipython3",
   "version": "3.11.9"
  }
 },
 "nbformat": 4,
 "nbformat_minor": 2
}
