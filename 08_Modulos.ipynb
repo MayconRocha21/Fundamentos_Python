{
 "cells": [
  {
   "cell_type": "markdown",
   "metadata": {},
   "source": [
    "# 08. Módulos"
   ]
  },
  {
   "cell_type": "code",
   "execution_count": 1,
   "metadata": {},
   "outputs": [],
   "source": [
    "import meuPrimeiroModulo"
   ]
  },
  {
   "cell_type": "code",
   "execution_count": 2,
   "metadata": {},
   "outputs": [
    {
     "data": {
      "text/plain": [
       "['Troca de Óleo', 'Alinhamento']"
      ]
     },
     "execution_count": 2,
     "metadata": {},
     "output_type": "execute_result"
    }
   ],
   "source": [
    "pedido_servico = [\"Troca de Óleo\", \"Alinhamento\"]\n",
    "pedido_servico"
   ]
  },
  {
   "cell_type": "code",
   "execution_count": 4,
   "metadata": {},
   "outputs": [
    {
     "name": "stdout",
     "output_type": "stream",
     "text": [
      "SERVICE_CAR AUTO CENTER\n",
      "------------------------------------\n",
      "Itens de manutenção:\n",
      "Troca de Óleo = R$50 +- 30 min.\n",
      "Alinhamento = R$60 +- 40 min.\n",
      "------------------------------------\n",
      "Valor total = R$ 110\n",
      "Tempo total = 70 minutos\n"
     ]
    }
   ],
   "source": [
    "# meuPrimeiroModulo.fazer_pedido_manutencao(pedido_servico)\n",
    "meuPrimeiroModulo.fazer_pedido_manutencao([\"Troca de Óleo\", \"Alinhamento\"])"
   ]
  },
  {
   "cell_type": "code",
   "execution_count": null,
   "metadata": {},
   "outputs": [],
   "source": []
  }
 ],
 "metadata": {
  "kernelspec": {
   "display_name": "venv",
   "language": "python",
   "name": "python3"
  },
  "language_info": {
   "codemirror_mode": {
    "name": "ipython",
    "version": 3
   },
   "file_extension": ".py",
   "mimetype": "text/x-python",
   "name": "python",
   "nbconvert_exporter": "python",
   "pygments_lexer": "ipython3",
   "version": "3.11.9"
  }
 },
 "nbformat": 4,
 "nbformat_minor": 2
}
